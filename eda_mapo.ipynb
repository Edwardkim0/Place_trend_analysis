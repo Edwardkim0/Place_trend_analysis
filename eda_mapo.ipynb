{
 "cells": [
  {
   "cell_type": "code",
   "execution_count": 1,
   "metadata": {
    "collapsed": true
   },
   "outputs": [],
   "source": [
    "import pandas as pd\n",
    "import numpy as np\n",
    "import re\n",
    "import random\n",
    "import matplotlib.pyplot as plt\n",
    "import seaborn as sns\n",
    "import pandas_profiling as pp\n"
   ]
  },
  {
   "cell_type": "code",
   "execution_count": null,
   "metadata": {},
   "outputs": [],
   "source": [
    "mp_df = pd.read_excel(\"../data/moving_population/ingu_hour_mapo.xlsx\",sheet_name=0)"
   ]
  },
  {
   "cell_type": "code",
   "execution_count": null,
   "metadata": {},
   "outputs": [],
   "source": [
    "ingu_var = [x for x in mp_df.columns if '_ingu' in x]"
   ]
  },
  {
   "cell_type": "code",
   "execution_count": null,
   "metadata": {},
   "outputs": [],
   "source": [
    "mp_df_2 = pd.melt(mp_df,['hour','gu_name','dong_name'],value_vars=ingu_var,var_name='성별연령대',value_name='인구')\n",
    "mp_df_2.head()"
   ]
  },
  {
   "cell_type": "code",
   "execution_count": null,
   "metadata": {},
   "outputs": [],
   "source": [
    "mp_df_2['연령대'] = mp_df_2['성별연령대'].str.slice(stop=7)\n",
    "mp_df_2['성별'] = mp_df_2['성별연령대'].str.slice(start=8)\n",
    "mp_df_2.head()"
   ]
  },
  {
   "cell_type": "code",
   "execution_count": null,
   "metadata": {},
   "outputs": [],
   "source": [
    "mp_df_2_temp = mp_df_2[mp_df_2['성별']=='ingu'].groupby('연령대').sum()\n",
    "mp_df_2_temp['남성'] = mp_df_2[mp_df_2['성별']=='male_ingu'].groupby('연령대').sum()['인구']\n",
    "mp_df_2_temp['여성'] = mp_df_2[mp_df_2['성별']=='female_ingu'].groupby('연령대').sum()['인구']"
   ]
  },
  {
   "cell_type": "code",
   "execution_count": null,
   "metadata": {},
   "outputs": [],
   "source": [
    "mp_df_2_temp['남녀합'] = mp_df_2_temp.apply(lambda row:row['남성']+row['여성'],axis=1)\n",
    "mp_df_2_temp.loc[:,['남성','여성','남녀합','인구']]"
   ]
  },
  {
   "cell_type": "code",
   "execution_count": null,
   "metadata": {},
   "outputs": [],
   "source": [
    "mp_df_2_temp.rename(columns={'남성': 'male', '여성': 'female','남녀합':'sum','인구':'ingu'}, inplace=True)"
   ]
  },
  {
   "cell_type": "code",
   "execution_count": null,
   "metadata": {},
   "outputs": [],
   "source": [
    "mp_df_2['연령대'].unique()"
   ]
  },
  {
   "cell_type": "code",
   "execution_count": 12,
   "metadata": {},
   "outputs": [
    {
     "data": {
      "image/png": "[encoded data removed]",
      "text/plain": [
       "<Figure size 432x288 with 1 Axes>"
      ]
     },
     "metadata": {
      "needs_background": "light"
     },
     "output_type": "display_data"
    }
   ],
   "source": [
    "analysis_age = mp_df_2_temp.loc[:,['male','female','sum']]\n",
    "analysis_age['age'] = mp_df_2['연령대'].unique()\n",
    "ax = analysis_age.plot.bar(x='age', rot=0)\n",
    "plt.savefig('analysis_age_mp.png')"
   ]
  },
  {
   "cell_type": "code",
   "execution_count": 17,
   "metadata": {},
   "outputs": [
    {
     "data": {
      "image/png": "[encoded data removed]",
      "text/plain": [
       "<Figure size 432x288 with 1 Axes>"
      ]
     },
     "metadata": {
      "needs_background": "light"
     },
     "output_type": "display_data"
    }
   ],
   "source": [
    "analysis_age.rename(columns={'sum':'ingu'},inplace=True)\n",
    "ax3 = analysis_age.loc[:,['age','ingu']].plot.bar(x='age',y='ingu',rot=0)\n",
    "plt.savefig('analysis_age_mp_total.png')"
   ]
  },
  {
   "cell_type": "code",
   "execution_count": 12,
   "metadata": {},
   "outputs": [
    {
     "data": {
      "text/html": [
       "<div>\n",
       "<style scoped>\n",
       "    .dataframe tbody tr th:only-of-type {\n",
       "        vertical-align: middle;\n",
       "    }\n",
       "\n",
       "    .dataframe tbody tr th {\n",
       "        vertical-align: top;\n",
       "    }\n",
       "\n",
       "    .dataframe thead th {\n",
       "        text-align: right;\n",
       "    }\n",
       "</style>\n",
       "<table border=\"1\" class=\"dataframe\">\n",
       "  <thead>\n",
       "    <tr style=\"text-align: right;\">\n",
       "      <th></th>\n",
       "      <th>male</th>\n",
       "      <th>female</th>\n",
       "      <th>sum</th>\n",
       "    </tr>\n",
       "    <tr>\n",
       "      <th>hour</th>\n",
       "      <th></th>\n",
       "      <th></th>\n",
       "      <th></th>\n",
       "    </tr>\n",
       "  </thead>\n",
       "  <tbody>\n",
       "    <tr>\n",
       "      <th>0</th>\n",
       "      <td>86656.824118</td>\n",
       "      <td>90183.903966</td>\n",
       "      <td>176840.728083</td>\n",
       "    </tr>\n",
       "    <tr>\n",
       "      <th>1</th>\n",
       "      <td>84987.109013</td>\n",
       "      <td>89264.517595</td>\n",
       "      <td>174251.626607</td>\n",
       "    </tr>\n",
       "    <tr>\n",
       "      <th>2</th>\n",
       "      <td>83824.045373</td>\n",
       "      <td>88690.380360</td>\n",
       "      <td>172514.425733</td>\n",
       "    </tr>\n",
       "    <tr>\n",
       "      <th>3</th>\n",
       "      <td>82889.797315</td>\n",
       "      <td>88117.542113</td>\n",
       "      <td>171007.339428</td>\n",
       "    </tr>\n",
       "    <tr>\n",
       "      <th>4</th>\n",
       "      <td>82179.730119</td>\n",
       "      <td>87523.564664</td>\n",
       "      <td>169703.294783</td>\n",
       "    </tr>\n",
       "    <tr>\n",
       "      <th>5</th>\n",
       "      <td>82982.473957</td>\n",
       "      <td>87421.513143</td>\n",
       "      <td>170403.987100</td>\n",
       "    </tr>\n",
       "    <tr>\n",
       "      <th>6</th>\n",
       "      <td>84496.595797</td>\n",
       "      <td>88043.438832</td>\n",
       "      <td>172540.034629</td>\n",
       "    </tr>\n",
       "    <tr>\n",
       "      <th>7</th>\n",
       "      <td>87360.664704</td>\n",
       "      <td>90678.165371</td>\n",
       "      <td>178038.830075</td>\n",
       "    </tr>\n",
       "    <tr>\n",
       "      <th>8</th>\n",
       "      <td>90590.865919</td>\n",
       "      <td>96026.846648</td>\n",
       "      <td>186617.712568</td>\n",
       "    </tr>\n",
       "    <tr>\n",
       "      <th>9</th>\n",
       "      <td>93493.717885</td>\n",
       "      <td>98903.858274</td>\n",
       "      <td>192397.576159</td>\n",
       "    </tr>\n",
       "    <tr>\n",
       "      <th>10</th>\n",
       "      <td>95425.051466</td>\n",
       "      <td>100910.554809</td>\n",
       "      <td>196335.606275</td>\n",
       "    </tr>\n",
       "    <tr>\n",
       "      <th>11</th>\n",
       "      <td>97531.537222</td>\n",
       "      <td>103465.552938</td>\n",
       "      <td>200997.090160</td>\n",
       "    </tr>\n",
       "    <tr>\n",
       "      <th>12</th>\n",
       "      <td>98447.795089</td>\n",
       "      <td>105296.896535</td>\n",
       "      <td>203744.691624</td>\n",
       "    </tr>\n",
       "    <tr>\n",
       "      <th>13</th>\n",
       "      <td>98419.018104</td>\n",
       "      <td>105574.558822</td>\n",
       "      <td>203993.576925</td>\n",
       "    </tr>\n",
       "    <tr>\n",
       "      <th>14</th>\n",
       "      <td>97491.940891</td>\n",
       "      <td>104954.486037</td>\n",
       "      <td>202446.426928</td>\n",
       "    </tr>\n",
       "    <tr>\n",
       "      <th>15</th>\n",
       "      <td>99432.459616</td>\n",
       "      <td>106772.310814</td>\n",
       "      <td>206204.770429</td>\n",
       "    </tr>\n",
       "    <tr>\n",
       "      <th>16</th>\n",
       "      <td>100454.180228</td>\n",
       "      <td>107527.376583</td>\n",
       "      <td>207981.556812</td>\n",
       "    </tr>\n",
       "    <tr>\n",
       "      <th>17</th>\n",
       "      <td>102363.536775</td>\n",
       "      <td>108569.935680</td>\n",
       "      <td>210933.472455</td>\n",
       "    </tr>\n",
       "    <tr>\n",
       "      <th>18</th>\n",
       "      <td>103103.338210</td>\n",
       "      <td>109108.686903</td>\n",
       "      <td>212212.025113</td>\n",
       "    </tr>\n",
       "    <tr>\n",
       "      <th>19</th>\n",
       "      <td>101809.984446</td>\n",
       "      <td>107229.087692</td>\n",
       "      <td>209039.072139</td>\n",
       "    </tr>\n",
       "    <tr>\n",
       "      <th>20</th>\n",
       "      <td>100129.776067</td>\n",
       "      <td>104841.986214</td>\n",
       "      <td>204971.762281</td>\n",
       "    </tr>\n",
       "    <tr>\n",
       "      <th>21</th>\n",
       "      <td>97129.978212</td>\n",
       "      <td>100815.415863</td>\n",
       "      <td>197945.394075</td>\n",
       "    </tr>\n",
       "    <tr>\n",
       "      <th>22</th>\n",
       "      <td>93324.414328</td>\n",
       "      <td>94950.046881</td>\n",
       "      <td>188274.461209</td>\n",
       "    </tr>\n",
       "    <tr>\n",
       "      <th>23</th>\n",
       "      <td>89945.846179</td>\n",
       "      <td>89928.514811</td>\n",
       "      <td>179874.360991</td>\n",
       "    </tr>\n",
       "  </tbody>\n",
       "</table>\n",
       "</div>"
      ],
      "text/plain": [
       "               male         female            sum\n",
       "hour                                             \n",
       "0      86656.824118   90183.903966  176840.728083\n",
       "1      84987.109013   89264.517595  174251.626607\n",
       "2      83824.045373   88690.380360  172514.425733\n",
       "3      82889.797315   88117.542113  171007.339428\n",
       "4      82179.730119   87523.564664  169703.294783\n",
       "5      82982.473957   87421.513143  170403.987100\n",
       "6      84496.595797   88043.438832  172540.034629\n",
       "7      87360.664704   90678.165371  178038.830075\n",
       "8      90590.865919   96026.846648  186617.712568\n",
       "9      93493.717885   98903.858274  192397.576159\n",
       "10     95425.051466  100910.554809  196335.606275\n",
       "11     97531.537222  103465.552938  200997.090160\n",
       "12     98447.795089  105296.896535  203744.691624\n",
       "13     98419.018104  105574.558822  203993.576925\n",
       "14     97491.940891  104954.486037  202446.426928\n",
       "15     99432.459616  106772.310814  206204.770429\n",
       "16    100454.180228  107527.376583  207981.556812\n",
       "17    102363.536775  108569.935680  210933.472455\n",
       "18    103103.338210  109108.686903  212212.025113\n",
       "19    101809.984446  107229.087692  209039.072139\n",
       "20    100129.776067  104841.986214  204971.762281\n",
       "21     97129.978212  100815.415863  197945.394075\n",
       "22     93324.414328   94950.046881  188274.461209\n",
       "23     89945.846179   89928.514811  179874.360991"
      ]
     },
     "execution_count": 12,
     "metadata": {},
     "output_type": "execute_result"
    }
   ],
   "source": [
    "mp_df_2 = mp_df_2[mp_df_2['성별']!='ingu']\n",
    "analysis_time = mp_df_2[mp_df_2['성별']=='male_ingu'].groupby('hour').sum()\n",
    "analysis_time.rename(columns={'인구':'male'},inplace=True)\n",
    "\n",
    "analysis_time['female'] = mp_df_2[mp_df_2['성별']=='female_ingu'].groupby('hour').sum()\n",
    "analysis_time['sum'] = analysis_time.apply(lambda row:row['male']+row['female'],axis=1)\n",
    "analysis_time"
   ]
  },
  {
   "cell_type": "code",
   "execution_count": 20,
   "metadata": {},
   "outputs": [
    {
     "data": {
      "image/png": "[encoded data removed]",
      "text/plain": [
       "<Figure size 432x288 with 1 Axes>"
      ]
     },
     "metadata": {
      "needs_background": "light"
     },
     "output_type": "display_data"
    },
    {
     "data": {
      "image/png": "[encoded data removed]",
      "text/plain": [
       "<Figure size 432x288 with 1 Axes>"
      ]
     },
     "metadata": {
      "needs_background": "light"
     },
     "output_type": "display_data"
    }
   ],
   "source": [
    "ax = analysis_time.plot.bar( rot=0)\n",
    "plt.savefig('analysis_time_mp.png')\n",
    "ax2 = analysis_time.loc[:,['sum']].plot.bar( rot=0)\n",
    "plt.savefig('analysis_time_mp_total.png')"
   ]
  },
  {
   "cell_type": "markdown",
   "metadata": {},
   "source": [
    "### 시간대별 연령대 누적 그래프 그리기"
   ]
  },
  {
   "cell_type": "code",
   "execution_count": null,
   "metadata": {},
   "outputs": [],
   "source": [
    "male_ingu_var =[x for x in ingu_var if 'male' in x]\n",
    "female_ingu_var =[x for x in ingu_var if 'female' in x]\n",
    "print(male_ingu_var)\n",
    "print(female_ingu_var)"
   ]
  },
  {
   "cell_type": "code",
   "execution_count": null,
   "metadata": {},
   "outputs": [],
   "source": [
    "new_ingu_var = [x.split('_')[0] for x in ingu_var if len(x)<13]\n",
    "mp_df_3 = mp_df.loc[:,['hour','gu_name','dong_name']]\n",
    "mp_df_3_male = mp_df_3.copy()\n",
    "mp_df_3_female = mp_df_3.copy()\n",
    "for idx,_var in enumerate(new_ingu_var):\n",
    "    mp_df_3[_var] = mp_df.apply(lambda row:row[male_ingu_var[idx]]+row[female_ingu_var[idx]],axis=1)\n",
    "    mp_df_3_male[_var] = mp_df[male_ingu_var[idx]]\n",
    "    mp_df_3_female[_var] = mp_df[female_ingu_var[idx]]\n",
    "mp_df_3_female"
   ]
  },
  {
   "cell_type": "code",
   "execution_count": null,
   "metadata": {},
   "outputs": [],
   "source": [
    "analysis_time_stack = mp_df_3.groupby('hour').sum()\n",
    "analysis_time_stack2 = analysis_time_stack.copy()\n",
    "analysis_time_stack2['hour'] = mp_df_3['hour'].unique()\n",
    "ax4 = analysis_time_stack2.plot.bar(x='hour',rot=0,stacked=True,figsize=(24, 10))\n",
    "ax4.legend(bbox_to_anchor=(0.95, 0.9)) \n",
    "# plt.savefig('analysis_time_mp_total_wrt_age2.png')\n",
    "\n",
    "analysis_time_stack_male = mp_df_3_male.groupby('hour').sum()\n",
    "analysis_time_stack_female = mp_df_3_female.groupby('hour').sum()"
   ]
  },
  {
   "cell_type": "markdown",
   "metadata": {},
   "source": [
    "### 시간대별 연령대 인구수 히트맵 그리기"
   ]
  },
  {
   "cell_type": "code",
   "execution_count": 47,
   "metadata": {},
   "outputs": [
    {
     "data": {
      "image/png": "[encoded data removed]",
      "text/plain": [
       "<Figure size 864x432 with 2 Axes>"
      ]
     },
     "metadata": {
      "needs_background": "light"
     },
     "output_type": "display_data"
    }
   ],
   "source": [
    "analysis_time_stack_heatmap = analysis_time_stack.transpose()\n",
    "analysis_time_stack_heatmap\n",
    "plt.figure(figsize=(12, 6))\n",
    "snsplt = sns.heatmap(analysis_time_stack_heatmap,cmap=\"YlGnBu\", linewidths=.5)\n",
    "snsplt.set_xlabel(\"time\")\n",
    "snsplt.set_ylabel(\"age\")\n",
    "sns_fig = snsplt.get_figure()\n",
    "\n",
    "sns_fig.savefig('time_age_population_mp.png')\n",
    "\n",
    "\n",
    "analysis_time_stack_heatmap = analysis_time_stack.transpose()\n",
    "analysis_time_stack_heatmap_male = analysis_time_stack_male.transpose()\n",
    "analysis_time_stack_heatmap_female = analysis_time_stack_female.transpose()\n",
    "analysis_time_stack_heatmap\n",
    "plt.figure(figsize=(12, 6))\n",
    "snsplt = sns.heatmap(analysis_time_stack_heatmap,cmap=\"YlGnBu\", linewidths=.5)\n",
    "snsplt.set_xlabel(\"time\")\n",
    "snsplt.set_ylabel(\"age\")\n",
    "sns_fig = snsplt.get_figure()\n",
    "\n",
    "# sns_fig.savefig('time_age_population_mp.png')"
   ]
  },
  {
   "cell_type": "markdown",
   "metadata": {},
   "source": [
    "### 유출입 인구수 파악을 위해 거주지 인구수와의 차이를 가시화"
   ]
  },
  {
   "cell_type": "code",
   "execution_count": 59,
   "metadata": {},
   "outputs": [
    {
     "data": {
      "image/png": "[encoded data removed]",
      "text/plain": [
       "<Figure size 864x432 with 2 Axes>"
      ]
     },
     "metadata": {
      "needs_background": "light"
     },
     "output_type": "display_data"
    }
   ],
   "source": [
    "analysis_time_heatmap_wrt3 = analysis_time_stack_heatmap.copy()\n",
    "analysis_time_heatmap_male_wrt3 = analysis_time_stack_heatmap_male.copy()\n",
    "analysis_time_heatmap_female_wrt3 = analysis_time_stack_heatmap_female.copy()\n",
    "annot_male_percent = analysis_time_heatmap_wrt3.copy()\n",
    "\n",
    "for idx in range(24):\n",
    "    analysis_time_heatmap_wrt3[idx] = analysis_time_stack_heatmap[idx]-analysis_time_stack_heatmap[3]\n",
    "    analysis_time_heatmap_male_wrt3[idx] = analysis_time_stack_heatmap_male[idx]-analysis_time_stack_heatmap_male[3]\n",
    "    analysis_time_heatmap_female_wrt3[idx] = analysis_time_stack_heatmap_female[idx]-analysis_time_stack_heatmap_female[3]\n",
    "\n",
    "    annot_male_percent[idx] = analysis_time_heatmap_male_wrt3[idx].abs()/(analysis_time_heatmap_male_wrt3[idx].abs()+analysis_time_heatmap_female_wrt3[idx].abs())\n",
    "annot_male_percent[3] = analysis_time_stack_heatmap_male[3]/analysis_time_stack_heatmap[3]\n",
    "annot_male_percent"
   ]
  },
  {
   "cell_type": "code",
   "execution_count": null,
   "metadata": {},
   "outputs": [],
   "source": [
    "cmap  = sns.diverging_palette(10, 240, sep=20, n=9)\n",
    "sns.palplot(cmap)\n"
   ]
  },
  {
   "cell_type": "code",
   "execution_count": null,
   "metadata": {},
   "outputs": [],
   "source": [
    "analysis_time_heatmap_wrt3.describe()\n",
    "plt.figure(figsize=(12, 6))\n",
    "snsplt = sns.heatmap(analysis_time_heatmap_wrt3,annot=annot_male_percent,\n",
    "                     cmap=\"YlGnBu\", linewidths=.5)\n",
    "snsplt.set_xlabel(\"time\")\n",
    "snsplt.set_ylabel(\"age\")\n",
    "sns_fig = snsplt.get_figure()\n",
    "\n",
    "sns_fig.savefig('time_age_population_mp_wrt3_annot.png')\n",
    "\n",
    "plt.figure(figsize=(12, 6))\n",
    "snsplt = sns.heatmap(annot_male_percent, cmap=cmap,linewidths=.5)\n",
    "snsplt.set_xlabel(\"time\")\n",
    "snsplt.set_ylabel(\"age\")\n",
    "sns_fig = snsplt.get_figure()\n",
    "\n",
    "sns_fig.savefig('time_age_population_mp_wrt3_annot_sex.png')"
   ]
  }
 ],
 "metadata": {
  "kernelspec": {
   "display_name": "Python 3",
   "language": "python",
   "name": "python3"
  },
  "language_info": {
   "codemirror_mode": {
    "name": "ipython",
    "version": 3
   },
   "file_extension": ".py",
   "mimetype": "text/x-python",
   "name": "python",
   "nbconvert_exporter": "python",
   "pygments_lexer": "ipython3",
   "version": "3.7.3"
  },
  "pycharm": {
   "stem_cell": {
    "cell_type": "raw",
    "metadata": {
     "collapsed": false
    },
    "source": []
   }
  }
 },
 "nbformat": 4,
 "nbformat_minor": 2
}
