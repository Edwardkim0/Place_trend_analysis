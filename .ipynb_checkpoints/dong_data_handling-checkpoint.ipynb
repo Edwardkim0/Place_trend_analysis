{
 "cells": [
  {
   "cell_type": "code",
   "execution_count": 1,
   "metadata": {},
   "outputs": [
    {
     "name": "stderr",
     "output_type": "stream",
     "text": [
      "/Users/dhkim/PycharmProjects/untitled/venv/lib/python3.8/site-packages/pandas/compat/__init__.py:117: UserWarning: Could not import the lzma module. Your installed Python is incomplete. Attempting to use lzma compression will result in a RuntimeError.\n",
      "  warnings.warn(msg)\n"
     ]
    }
   ],
   "source": [
    "import pandas as pd\n"
   ]
  },
  {
   "cell_type": "code",
   "execution_count": 20,
   "metadata": {},
   "outputs": [],
   "source": [
    "# x = '이태원3동'\n",
    "def splitter(str_x):\n",
    "    nums = range(5)\n",
    "    for i in nums:\n",
    "        if str(i) in str_x: \n",
    "            return ''.join(x.split(str(i)))\n",
    "    return str_x"
   ]
  },
  {
   "cell_type": "code",
   "execution_count": 34,
   "metadata": {},
   "outputs": [
    {
     "data": {
      "text/plain": [
       "0          동\n",
       "1         합계\n",
       "2         소계\n",
       "3        사직동\n",
       "4        삼청동\n",
       "       ...  \n",
       "446    이태원3동\n",
       "447    이태원3동\n",
       "448    이태원3동\n",
       "449    이태원3동\n",
       "450       길동\n",
       "Name: 동, Length: 451, dtype: object"
      ]
     },
     "execution_count": 34,
     "metadata": {},
     "output_type": "execute_result"
    }
   ],
   "source": [
    "raw_data = pd.read_csv('/Users/dhkim/Downloads/report.txt', sep='\\t')\n",
    "raw_data\n",
    "target_data = raw_data[\"동\"].map(lambda y:splitter(y))\n",
    "target_data\n",
    "# target_data[target_data[\"동\"]==\"이태원3동\"]"
   ]
  },
  {
   "cell_type": "code",
   "execution_count": null,
   "metadata": {},
   "outputs": [],
   "source": []
  },
  {
   "cell_type": "code",
   "execution_count": null,
   "metadata": {},
   "outputs": [],
   "source": []
  }
 ],
 "metadata": {
  "kernelspec": {
   "display_name": "Python 3",
   "language": "python",
   "name": "python3"
  },
  "language_info": {
   "codemirror_mode": {
    "name": "ipython",
    "version": 3
   },
   "file_extension": ".py",
   "mimetype": "text/x-python",
   "name": "python",
   "nbconvert_exporter": "python",
   "pygments_lexer": "ipython3",
   "version": "3.8.2"
  }
 },
 "nbformat": 4,
 "nbformat_minor": 4
}
