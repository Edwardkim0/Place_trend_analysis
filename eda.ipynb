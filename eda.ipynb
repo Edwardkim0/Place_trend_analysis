{
 "cells": [
  {
   "cell_type": "code",
   "execution_count": 11,
   "metadata": {
    "collapsed": true
   },
   "outputs": [],
   "source": [
    "import pandas as pd\n",
    "import numpy as np\n",
    "import re\n",
    "import random\n",
    "import matplotlib.pyplot as plt\n",
    "import seaborn as sns\n",
    "import pandas_profiling as pp\n"
   ]
  },
  {
   "cell_type": "code",
   "execution_count": 4,
   "metadata": {},
   "outputs": [],
   "source": [
    "yp_df = pd.read_excel(\"../data/moving_population/ingu_hour_yeungdeungpo.xlsx\",sheet_name=0)"
   ]
  },
  {
   "cell_type": "code",
   "execution_count": 10,
   "metadata": {},
   "outputs": [
    {
     "data": {
      "text/html": [
       "<div>\n",
       "<style scoped>\n",
       "    .dataframe tbody tr th:only-of-type {\n",
       "        vertical-align: middle;\n",
       "    }\n",
       "\n",
       "    .dataframe tbody tr th {\n",
       "        vertical-align: top;\n",
       "    }\n",
       "\n",
       "    .dataframe thead th {\n",
       "        text-align: right;\n",
       "    }\n",
       "</style>\n",
       "<table border=\"1\" class=\"dataframe\">\n",
       "  <thead>\n",
       "    <tr style=\"text-align: right;\">\n",
       "      <th></th>\n",
       "      <th>date</th>\n",
       "      <th>hour</th>\n",
       "      <th>longitude</th>\n",
       "      <th>latitude</th>\n",
       "      <th>gu_code</th>\n",
       "      <th>gu_name</th>\n",
       "      <th>dong_code</th>\n",
       "      <th>dong_name</th>\n",
       "      <th>under10_ingu</th>\n",
       "      <th>under20_ingu</th>\n",
       "      <th>...</th>\n",
       "      <th>upper80_male_ingu</th>\n",
       "      <th>under10_female_ingu</th>\n",
       "      <th>under20_female_ingu</th>\n",
       "      <th>under30_female_ingu</th>\n",
       "      <th>under40_female_ingu</th>\n",
       "      <th>under50_female_ingu</th>\n",
       "      <th>under60_female_ingu</th>\n",
       "      <th>under70_female_ingu</th>\n",
       "      <th>under80_female_ingu</th>\n",
       "      <th>upper80_female_ingu</th>\n",
       "    </tr>\n",
       "  </thead>\n",
       "  <tbody>\n",
       "    <tr>\n",
       "      <th>0</th>\n",
       "      <td>20190911</td>\n",
       "      <td>0</td>\n",
       "      <td>126.904651</td>\n",
       "      <td>37.510243</td>\n",
       "      <td>11560</td>\n",
       "      <td>영등포구</td>\n",
       "      <td>1156051500</td>\n",
       "      <td>영등포본동</td>\n",
       "      <td>0.477690</td>\n",
       "      <td>2.295678</td>\n",
       "      <td>...</td>\n",
       "      <td>0.291999</td>\n",
       "      <td>0.291928</td>\n",
       "      <td>0.916024</td>\n",
       "      <td>1.710428</td>\n",
       "      <td>2.440412</td>\n",
       "      <td>3.262780</td>\n",
       "      <td>2.892460</td>\n",
       "      <td>2.045463</td>\n",
       "      <td>1.043423</td>\n",
       "      <td>0.272596</td>\n",
       "    </tr>\n",
       "    <tr>\n",
       "      <th>1</th>\n",
       "      <td>20190911</td>\n",
       "      <td>0</td>\n",
       "      <td>126.917051</td>\n",
       "      <td>37.516164</td>\n",
       "      <td>11560</td>\n",
       "      <td>영등포구</td>\n",
       "      <td>1156051500</td>\n",
       "      <td>영등포본동</td>\n",
       "      <td>0.261749</td>\n",
       "      <td>2.162063</td>\n",
       "      <td>...</td>\n",
       "      <td>0.387504</td>\n",
       "      <td>0.149363</td>\n",
       "      <td>0.938860</td>\n",
       "      <td>3.624611</td>\n",
       "      <td>3.544734</td>\n",
       "      <td>2.772231</td>\n",
       "      <td>2.820026</td>\n",
       "      <td>2.407307</td>\n",
       "      <td>1.139865</td>\n",
       "      <td>0.194348</td>\n",
       "    </tr>\n",
       "    <tr>\n",
       "      <th>2</th>\n",
       "      <td>20190911</td>\n",
       "      <td>0</td>\n",
       "      <td>126.911425</td>\n",
       "      <td>37.512080</td>\n",
       "      <td>11560</td>\n",
       "      <td>영등포구</td>\n",
       "      <td>1156051500</td>\n",
       "      <td>영등포본동</td>\n",
       "      <td>0.003061</td>\n",
       "      <td>0.223033</td>\n",
       "      <td>...</td>\n",
       "      <td>0.103522</td>\n",
       "      <td>0.003061</td>\n",
       "      <td>0.133585</td>\n",
       "      <td>0.390273</td>\n",
       "      <td>0.417927</td>\n",
       "      <td>0.513422</td>\n",
       "      <td>0.516027</td>\n",
       "      <td>0.547065</td>\n",
       "      <td>0.373192</td>\n",
       "      <td>0.124435</td>\n",
       "    </tr>\n",
       "    <tr>\n",
       "      <th>3</th>\n",
       "      <td>20190911</td>\n",
       "      <td>0</td>\n",
       "      <td>126.901812</td>\n",
       "      <td>37.511581</td>\n",
       "      <td>11560</td>\n",
       "      <td>영등포구</td>\n",
       "      <td>1156051500</td>\n",
       "      <td>영등포본동</td>\n",
       "      <td>0.683299</td>\n",
       "      <td>4.209149</td>\n",
       "      <td>...</td>\n",
       "      <td>0.359653</td>\n",
       "      <td>0.265973</td>\n",
       "      <td>1.946447</td>\n",
       "      <td>3.184111</td>\n",
       "      <td>5.404459</td>\n",
       "      <td>4.894257</td>\n",
       "      <td>5.373596</td>\n",
       "      <td>2.858021</td>\n",
       "      <td>1.359324</td>\n",
       "      <td>0.362667</td>\n",
       "    </tr>\n",
       "    <tr>\n",
       "      <th>4</th>\n",
       "      <td>20190911</td>\n",
       "      <td>0</td>\n",
       "      <td>126.913667</td>\n",
       "      <td>37.514795</td>\n",
       "      <td>11560</td>\n",
       "      <td>영등포구</td>\n",
       "      <td>1156051500</td>\n",
       "      <td>영등포본동</td>\n",
       "      <td>0.218001</td>\n",
       "      <td>1.505187</td>\n",
       "      <td>...</td>\n",
       "      <td>0.189097</td>\n",
       "      <td>0.141304</td>\n",
       "      <td>0.692433</td>\n",
       "      <td>0.846153</td>\n",
       "      <td>1.329714</td>\n",
       "      <td>1.272188</td>\n",
       "      <td>1.615956</td>\n",
       "      <td>1.570745</td>\n",
       "      <td>0.773648</td>\n",
       "      <td>0.163622</td>\n",
       "    </tr>\n",
       "    <tr>\n",
       "      <th>...</th>\n",
       "      <td>...</td>\n",
       "      <td>...</td>\n",
       "      <td>...</td>\n",
       "      <td>...</td>\n",
       "      <td>...</td>\n",
       "      <td>...</td>\n",
       "      <td>...</td>\n",
       "      <td>...</td>\n",
       "      <td>...</td>\n",
       "      <td>...</td>\n",
       "      <td>...</td>\n",
       "      <td>...</td>\n",
       "      <td>...</td>\n",
       "      <td>...</td>\n",
       "      <td>...</td>\n",
       "      <td>...</td>\n",
       "      <td>...</td>\n",
       "      <td>...</td>\n",
       "      <td>...</td>\n",
       "      <td>...</td>\n",
       "      <td>...</td>\n",
       "    </tr>\n",
       "    <tr>\n",
       "      <th>995</th>\n",
       "      <td>20190911</td>\n",
       "      <td>0</td>\n",
       "      <td>126.935698</td>\n",
       "      <td>37.519409</td>\n",
       "      <td>11560</td>\n",
       "      <td>영등포구</td>\n",
       "      <td>1156054000</td>\n",
       "      <td>여의동</td>\n",
       "      <td>0.115503</td>\n",
       "      <td>0.684045</td>\n",
       "      <td>...</td>\n",
       "      <td>0.144597</td>\n",
       "      <td>0.065516</td>\n",
       "      <td>0.334959</td>\n",
       "      <td>0.425694</td>\n",
       "      <td>0.721789</td>\n",
       "      <td>0.904227</td>\n",
       "      <td>0.848502</td>\n",
       "      <td>0.639603</td>\n",
       "      <td>0.392872</td>\n",
       "      <td>0.240647</td>\n",
       "    </tr>\n",
       "    <tr>\n",
       "      <th>996</th>\n",
       "      <td>20190911</td>\n",
       "      <td>0</td>\n",
       "      <td>126.940723</td>\n",
       "      <td>37.528446</td>\n",
       "      <td>11560</td>\n",
       "      <td>영등포구</td>\n",
       "      <td>1156054000</td>\n",
       "      <td>여의동</td>\n",
       "      <td>0.000000</td>\n",
       "      <td>0.000000</td>\n",
       "      <td>...</td>\n",
       "      <td>0.000000</td>\n",
       "      <td>0.000000</td>\n",
       "      <td>0.000000</td>\n",
       "      <td>0.000000</td>\n",
       "      <td>0.000096</td>\n",
       "      <td>0.000000</td>\n",
       "      <td>0.000000</td>\n",
       "      <td>0.000000</td>\n",
       "      <td>0.000000</td>\n",
       "      <td>0.000000</td>\n",
       "    </tr>\n",
       "    <tr>\n",
       "      <th>997</th>\n",
       "      <td>20190911</td>\n",
       "      <td>0</td>\n",
       "      <td>126.920844</td>\n",
       "      <td>37.537815</td>\n",
       "      <td>11560</td>\n",
       "      <td>영등포구</td>\n",
       "      <td>1156054000</td>\n",
       "      <td>여의동</td>\n",
       "      <td>0.000000</td>\n",
       "      <td>0.027679</td>\n",
       "      <td>...</td>\n",
       "      <td>0.001941</td>\n",
       "      <td>0.000000</td>\n",
       "      <td>0.018706</td>\n",
       "      <td>0.036925</td>\n",
       "      <td>0.081290</td>\n",
       "      <td>0.076950</td>\n",
       "      <td>0.045649</td>\n",
       "      <td>0.018054</td>\n",
       "      <td>0.014532</td>\n",
       "      <td>0.001097</td>\n",
       "    </tr>\n",
       "    <tr>\n",
       "      <th>998</th>\n",
       "      <td>20190911</td>\n",
       "      <td>0</td>\n",
       "      <td>126.924333</td>\n",
       "      <td>37.525663</td>\n",
       "      <td>11560</td>\n",
       "      <td>영등포구</td>\n",
       "      <td>1156054000</td>\n",
       "      <td>여의동</td>\n",
       "      <td>0.014383</td>\n",
       "      <td>0.213163</td>\n",
       "      <td>...</td>\n",
       "      <td>0.000000</td>\n",
       "      <td>0.014383</td>\n",
       "      <td>0.128075</td>\n",
       "      <td>0.399660</td>\n",
       "      <td>0.873229</td>\n",
       "      <td>0.823339</td>\n",
       "      <td>0.628925</td>\n",
       "      <td>0.541176</td>\n",
       "      <td>0.428309</td>\n",
       "      <td>0.019657</td>\n",
       "    </tr>\n",
       "    <tr>\n",
       "      <th>999</th>\n",
       "      <td>20190911</td>\n",
       "      <td>0</td>\n",
       "      <td>126.921476</td>\n",
       "      <td>37.529255</td>\n",
       "      <td>11560</td>\n",
       "      <td>영등포구</td>\n",
       "      <td>1156054000</td>\n",
       "      <td>여의동</td>\n",
       "      <td>0.000000</td>\n",
       "      <td>0.122439</td>\n",
       "      <td>...</td>\n",
       "      <td>0.264934</td>\n",
       "      <td>0.000000</td>\n",
       "      <td>0.025043</td>\n",
       "      <td>3.256018</td>\n",
       "      <td>3.389561</td>\n",
       "      <td>2.540497</td>\n",
       "      <td>2.198548</td>\n",
       "      <td>1.946103</td>\n",
       "      <td>0.342979</td>\n",
       "      <td>0.064389</td>\n",
       "    </tr>\n",
       "  </tbody>\n",
       "</table>\n",
       "<p>1000 rows × 35 columns</p>\n",
       "</div>"
      ],
      "text/plain": [
       "         date  hour   longitude   latitude  gu_code gu_name   dong_code  \\\n",
       "0    20190911     0  126.904651  37.510243    11560    영등포구  1156051500   \n",
       "1    20190911     0  126.917051  37.516164    11560    영등포구  1156051500   \n",
       "2    20190911     0  126.911425  37.512080    11560    영등포구  1156051500   \n",
       "3    20190911     0  126.901812  37.511581    11560    영등포구  1156051500   \n",
       "4    20190911     0  126.913667  37.514795    11560    영등포구  1156051500   \n",
       "..        ...   ...         ...        ...      ...     ...         ...   \n",
       "995  20190911     0  126.935698  37.519409    11560    영등포구  1156054000   \n",
       "996  20190911     0  126.940723  37.528446    11560    영등포구  1156054000   \n",
       "997  20190911     0  126.920844  37.537815    11560    영등포구  1156054000   \n",
       "998  20190911     0  126.924333  37.525663    11560    영등포구  1156054000   \n",
       "999  20190911     0  126.921476  37.529255    11560    영등포구  1156054000   \n",
       "\n",
       "    dong_name  under10_ingu  under20_ingu  ...  upper80_male_ingu  \\\n",
       "0       영등포본동      0.477690      2.295678  ...           0.291999   \n",
       "1       영등포본동      0.261749      2.162063  ...           0.387504   \n",
       "2       영등포본동      0.003061      0.223033  ...           0.103522   \n",
       "3       영등포본동      0.683299      4.209149  ...           0.359653   \n",
       "4       영등포본동      0.218001      1.505187  ...           0.189097   \n",
       "..        ...           ...           ...  ...                ...   \n",
       "995       여의동      0.115503      0.684045  ...           0.144597   \n",
       "996       여의동      0.000000      0.000000  ...           0.000000   \n",
       "997       여의동      0.000000      0.027679  ...           0.001941   \n",
       "998       여의동      0.014383      0.213163  ...           0.000000   \n",
       "999       여의동      0.000000      0.122439  ...           0.264934   \n",
       "\n",
       "     under10_female_ingu  under20_female_ingu  under30_female_ingu  \\\n",
       "0               0.291928             0.916024             1.710428   \n",
       "1               0.149363             0.938860             3.624611   \n",
       "2               0.003061             0.133585             0.390273   \n",
       "3               0.265973             1.946447             3.184111   \n",
       "4               0.141304             0.692433             0.846153   \n",
       "..                   ...                  ...                  ...   \n",
       "995             0.065516             0.334959             0.425694   \n",
       "996             0.000000             0.000000             0.000000   \n",
       "997             0.000000             0.018706             0.036925   \n",
       "998             0.014383             0.128075             0.399660   \n",
       "999             0.000000             0.025043             3.256018   \n",
       "\n",
       "     under40_female_ingu  under50_female_ingu  under60_female_ingu  \\\n",
       "0               2.440412             3.262780             2.892460   \n",
       "1               3.544734             2.772231             2.820026   \n",
       "2               0.417927             0.513422             0.516027   \n",
       "3               5.404459             4.894257             5.373596   \n",
       "4               1.329714             1.272188             1.615956   \n",
       "..                   ...                  ...                  ...   \n",
       "995             0.721789             0.904227             0.848502   \n",
       "996             0.000096             0.000000             0.000000   \n",
       "997             0.081290             0.076950             0.045649   \n",
       "998             0.873229             0.823339             0.628925   \n",
       "999             3.389561             2.540497             2.198548   \n",
       "\n",
       "     under70_female_ingu  under80_female_ingu  upper80_female_ingu  \n",
       "0               2.045463             1.043423             0.272596  \n",
       "1               2.407307             1.139865             0.194348  \n",
       "2               0.547065             0.373192             0.124435  \n",
       "3               2.858021             1.359324             0.362667  \n",
       "4               1.570745             0.773648             0.163622  \n",
       "..                   ...                  ...                  ...  \n",
       "995             0.639603             0.392872             0.240647  \n",
       "996             0.000000             0.000000             0.000000  \n",
       "997             0.018054             0.014532             0.001097  \n",
       "998             0.541176             0.428309             0.019657  \n",
       "999             1.946103             0.342979             0.064389  \n",
       "\n",
       "[1000 rows x 35 columns]"
      ]
     },
     "execution_count": 10,
     "metadata": {},
     "output_type": "execute_result"
    }
   ],
   "source": [
    "yp_df_10000 = yp_df.head(1000)\n",
    "yp_df_10000."
   ]
  },
  {
   "cell_type": "code",
   "execution_count": 12,
   "metadata": {},
   "outputs": [
    {
     "name": "stderr",
     "output_type": "stream",
     "text": [
      "C:\\Users\\KIMDOHWAN\\Anaconda3\\envs\\dacon\\lib\\site-packages\\pandas\\core\\frame.py:4238: SettingWithCopyWarning: \n",
      "A value is trying to be set on a copy of a slice from a DataFrame\n",
      "\n",
      "See the caveats in the documentation: http://pandas.pydata.org/pandas-docs/stable/user_guide/indexing.html#returning-a-view-versus-a-copy\n",
      "  return super().rename(**kwargs)\n"
     ]
    },
    {
     "data": {
      "application/vnd.jupyter.widget-view+json": {
       "model_id": "e57fbe712f344be582b7828ba5a10797",
       "version_major": 2,
       "version_minor": 0
      },
      "text/plain": [
       "HBox(children=(FloatProgress(value=0.0, description='variables', max=35.0, style=ProgressStyle(description_wid…"
      ]
     },
     "metadata": {},
     "output_type": "display_data"
    },
    {
     "name": "stderr",
     "output_type": "stream",
     "text": [
      "C:\\Users\\KIMDOHWAN\\Anaconda3\\envs\\dacon\\lib\\site-packages\\pandas\\core\\generic.py:6786: SettingWithCopyWarning: \n",
      "A value is trying to be set on a copy of a slice from a DataFrame\n",
      "\n",
      "See the caveats in the documentation: http://pandas.pydata.org/pandas-docs/stable/user_guide/indexing.html#returning-a-view-versus-a-copy\n",
      "  self._update_inplace(new_data)\n",
      "C:\\Users\\KIMDOHWAN\\Anaconda3\\envs\\dacon\\lib\\site-packages\\pandas\\core\\generic.py:6786: SettingWithCopyWarning: \n",
      "A value is trying to be set on a copy of a slice from a DataFrame\n",
      "\n",
      "See the caveats in the documentation: http://pandas.pydata.org/pandas-docs/stable/user_guide/indexing.html#returning-a-view-versus-a-copy\n",
      "  self._update_inplace(new_data)\n"
     ]
    },
    {
     "name": "stdout",
     "output_type": "stream",
     "text": [
      "\n"
     ]
    },
    {
     "data": {
      "application/vnd.jupyter.widget-view+json": {
       "model_id": "6d737430a0524155babd0e829eae34b9",
       "version_major": 2,
       "version_minor": 0
      },
      "text/plain": [
       "HBox(children=(FloatProgress(value=0.0, description='correlations', max=6.0, style=ProgressStyle(description_w…"
      ]
     },
     "metadata": {},
     "output_type": "display_data"
    },
    {
     "name": "stdout",
     "output_type": "stream",
     "text": [
      "\n"
     ]
    },
    {
     "data": {
      "application/vnd.jupyter.widget-view+json": {
       "model_id": "7f108daded834ea7b32e53b6ec2a0831",
       "version_major": 2,
       "version_minor": 0
      },
      "text/plain": [
       "HBox(children=(FloatProgress(value=0.0, description='interactions [continuous]', max=841.0, style=ProgressStyl…"
      ]
     },
     "metadata": {},
     "output_type": "display_data"
    },
    {
     "name": "stdout",
     "output_type": "stream",
     "text": [
      "\n"
     ]
    },
    {
     "data": {
      "application/vnd.jupyter.widget-view+json": {
       "model_id": "ec189e33edec4180bfaa9b4c24f74f94",
       "version_major": 2,
       "version_minor": 0
      },
      "text/plain": [
       "HBox(children=(FloatProgress(value=0.0, description='table', max=1.0, style=ProgressStyle(description_width='i…"
      ]
     },
     "metadata": {},
     "output_type": "display_data"
    },
    {
     "name": "stdout",
     "output_type": "stream",
     "text": [
      "\n"
     ]
    },
    {
     "data": {
      "application/vnd.jupyter.widget-view+json": {
       "model_id": "d8f41b1487a04eafb74711de61e2963c",
       "version_major": 2,
       "version_minor": 0
      },
      "text/plain": [
       "HBox(children=(FloatProgress(value=0.0, description='missing', max=2.0, style=ProgressStyle(description_width=…"
      ]
     },
     "metadata": {},
     "output_type": "display_data"
    },
    {
     "name": "stdout",
     "output_type": "stream",
     "text": [
      "\n"
     ]
    },
    {
     "data": {
      "application/vnd.jupyter.widget-view+json": {
       "model_id": "53d6f70535f5421b92043f8e242295a2",
       "version_major": 2,
       "version_minor": 0
      },
      "text/plain": [
       "HBox(children=(FloatProgress(value=0.0, description='warnings', max=3.0, style=ProgressStyle(description_width…"
      ]
     },
     "metadata": {},
     "output_type": "display_data"
    },
    {
     "name": "stdout",
     "output_type": "stream",
     "text": [
      "\n"
     ]
    },
    {
     "data": {
      "application/vnd.jupyter.widget-view+json": {
       "model_id": "f15ad6489b89445c909d5d186588800d",
       "version_major": 2,
       "version_minor": 0
      },
      "text/plain": [
       "HBox(children=(FloatProgress(value=0.0, description='package', max=1.0, style=ProgressStyle(description_width=…"
      ]
     },
     "metadata": {},
     "output_type": "display_data"
    },
    {
     "name": "stdout",
     "output_type": "stream",
     "text": [
      "\n"
     ]
    },
    {
     "data": {
      "application/vnd.jupyter.widget-view+json": {
       "model_id": "bd3a3bbabfe04e6c9b7931ee1c15572a",
       "version_major": 2,
       "version_minor": 0
      },
      "text/plain": [
       "HBox(children=(FloatProgress(value=0.0, description='build report structure', max=1.0, style=ProgressStyle(des…"
      ]
     },
     "metadata": {},
     "output_type": "display_data"
    },
    {
     "name": "stdout",
     "output_type": "stream",
     "text": [
      "\n"
     ]
    }
   ],
   "source": [
    "profile = pp.ProfileReport(yp_df_10000, title='Pandas Profiling Report', html={'style':{'full_width':True}})"
   ]
  },
  {
   "cell_type": "code",
   "execution_count": 34,
   "metadata": {},
   "outputs": [
    {
     "name": "stdout",
     "output_type": "stream",
     "text": [
      "27\n"
     ]
    }
   ],
   "source": [
    "ingu_var = [x for x in yp_df.columns if '_ingu' in x]\n",
    "print(len(ingu_var))"
   ]
  },
  {
   "cell_type": "code",
   "execution_count": 17,
   "metadata": {},
   "outputs": [
    {
     "data": {
      "text/plain": [
       "<matplotlib.axes._subplots.AxesSubplot at 0x10c20f60ba8>"
      ]
     },
     "execution_count": 17,
     "metadata": {},
     "output_type": "execute_result"
    },
    {
     "data": {
      "image/png": "[encoded data removed]",
      "text/plain": [
       "<Figure size 576x396 with 1 Axes>"
      ]
     },
     "metadata": {},
     "output_type": "display_data"
    }
   ],
   "source": [
    "# yp_df_10000['under10_ingu'].plot()\n",
    "yp_df_10000.plot(kind='bar',x='hour',y='under10_ingu')\n",
    "plt.show()"
   ]
  },
  {
   "cell_type": "code",
   "execution_count": 23,
   "metadata": {},
   "outputs": [
    {
     "data": {
      "text/plain": [
       "array(['영등포본동', '영등포동', '여의동'], dtype=object)"
      ]
     },
     "execution_count": 23,
     "metadata": {},
     "output_type": "execute_result"
    }
   ],
   "source": [
    "yp_df_10000['dong_name'].unique()"
   ]
  },
  {
   "cell_type": "code",
   "execution_count": 36,
   "metadata": {},
   "outputs": [
    {
     "data": {
      "text/html": [
       "<div>\n",
       "<style scoped>\n",
       "    .dataframe tbody tr th:only-of-type {\n",
       "        vertical-align: middle;\n",
       "    }\n",
       "\n",
       "    .dataframe tbody tr th {\n",
       "        vertical-align: top;\n",
       "    }\n",
       "\n",
       "    .dataframe thead th {\n",
       "        text-align: right;\n",
       "    }\n",
       "</style>\n",
       "<table border=\"1\" class=\"dataframe\">\n",
       "  <thead>\n",
       "    <tr style=\"text-align: right;\">\n",
       "      <th></th>\n",
       "      <th>hour</th>\n",
       "      <th>gu_name</th>\n",
       "      <th>dong_name</th>\n",
       "      <th>성별연령대</th>\n",
       "      <th>인구</th>\n",
       "      <th>연령대</th>\n",
       "      <th>성별</th>\n",
       "    </tr>\n",
       "  </thead>\n",
       "  <tbody>\n",
       "    <tr>\n",
       "      <th>0</th>\n",
       "      <td>0</td>\n",
       "      <td>영등포구</td>\n",
       "      <td>영등포본동</td>\n",
       "      <td>under10_ingu</td>\n",
       "      <td>0.477690</td>\n",
       "      <td>under10</td>\n",
       "      <td>ingu</td>\n",
       "    </tr>\n",
       "    <tr>\n",
       "      <th>1</th>\n",
       "      <td>0</td>\n",
       "      <td>영등포구</td>\n",
       "      <td>영등포본동</td>\n",
       "      <td>under10_ingu</td>\n",
       "      <td>0.261749</td>\n",
       "      <td>under10</td>\n",
       "      <td>ingu</td>\n",
       "    </tr>\n",
       "    <tr>\n",
       "      <th>2</th>\n",
       "      <td>0</td>\n",
       "      <td>영등포구</td>\n",
       "      <td>영등포본동</td>\n",
       "      <td>under10_ingu</td>\n",
       "      <td>0.003061</td>\n",
       "      <td>under10</td>\n",
       "      <td>ingu</td>\n",
       "    </tr>\n",
       "    <tr>\n",
       "      <th>3</th>\n",
       "      <td>0</td>\n",
       "      <td>영등포구</td>\n",
       "      <td>영등포본동</td>\n",
       "      <td>under10_ingu</td>\n",
       "      <td>0.683299</td>\n",
       "      <td>under10</td>\n",
       "      <td>ingu</td>\n",
       "    </tr>\n",
       "    <tr>\n",
       "      <th>4</th>\n",
       "      <td>0</td>\n",
       "      <td>영등포구</td>\n",
       "      <td>영등포본동</td>\n",
       "      <td>under10_ingu</td>\n",
       "      <td>0.218001</td>\n",
       "      <td>under10</td>\n",
       "      <td>ingu</td>\n",
       "    </tr>\n",
       "    <tr>\n",
       "      <th>...</th>\n",
       "      <td>...</td>\n",
       "      <td>...</td>\n",
       "      <td>...</td>\n",
       "      <td>...</td>\n",
       "      <td>...</td>\n",
       "      <td>...</td>\n",
       "      <td>...</td>\n",
       "    </tr>\n",
       "    <tr>\n",
       "      <th>26995</th>\n",
       "      <td>0</td>\n",
       "      <td>영등포구</td>\n",
       "      <td>여의동</td>\n",
       "      <td>upper80_female_ingu</td>\n",
       "      <td>0.240647</td>\n",
       "      <td>upper80</td>\n",
       "      <td>female_ingu</td>\n",
       "    </tr>\n",
       "    <tr>\n",
       "      <th>26996</th>\n",
       "      <td>0</td>\n",
       "      <td>영등포구</td>\n",
       "      <td>여의동</td>\n",
       "      <td>upper80_female_ingu</td>\n",
       "      <td>0.000000</td>\n",
       "      <td>upper80</td>\n",
       "      <td>female_ingu</td>\n",
       "    </tr>\n",
       "    <tr>\n",
       "      <th>26997</th>\n",
       "      <td>0</td>\n",
       "      <td>영등포구</td>\n",
       "      <td>여의동</td>\n",
       "      <td>upper80_female_ingu</td>\n",
       "      <td>0.001097</td>\n",
       "      <td>upper80</td>\n",
       "      <td>female_ingu</td>\n",
       "    </tr>\n",
       "    <tr>\n",
       "      <th>26998</th>\n",
       "      <td>0</td>\n",
       "      <td>영등포구</td>\n",
       "      <td>여의동</td>\n",
       "      <td>upper80_female_ingu</td>\n",
       "      <td>0.019657</td>\n",
       "      <td>upper80</td>\n",
       "      <td>female_ingu</td>\n",
       "    </tr>\n",
       "    <tr>\n",
       "      <th>26999</th>\n",
       "      <td>0</td>\n",
       "      <td>영등포구</td>\n",
       "      <td>여의동</td>\n",
       "      <td>upper80_female_ingu</td>\n",
       "      <td>0.064389</td>\n",
       "      <td>upper80</td>\n",
       "      <td>female_ingu</td>\n",
       "    </tr>\n",
       "  </tbody>\n",
       "</table>\n",
       "<p>27000 rows × 7 columns</p>\n",
       "</div>"
      ],
      "text/plain": [
       "       hour gu_name dong_name                성별연령대        인구      연령대  \\\n",
       "0         0    영등포구     영등포본동         under10_ingu  0.477690  under10   \n",
       "1         0    영등포구     영등포본동         under10_ingu  0.261749  under10   \n",
       "2         0    영등포구     영등포본동         under10_ingu  0.003061  under10   \n",
       "3         0    영등포구     영등포본동         under10_ingu  0.683299  under10   \n",
       "4         0    영등포구     영등포본동         under10_ingu  0.218001  under10   \n",
       "...     ...     ...       ...                  ...       ...      ...   \n",
       "26995     0    영등포구       여의동  upper80_female_ingu  0.240647  upper80   \n",
       "26996     0    영등포구       여의동  upper80_female_ingu  0.000000  upper80   \n",
       "26997     0    영등포구       여의동  upper80_female_ingu  0.001097  upper80   \n",
       "26998     0    영등포구       여의동  upper80_female_ingu  0.019657  upper80   \n",
       "26999     0    영등포구       여의동  upper80_female_ingu  0.064389  upper80   \n",
       "\n",
       "                성별  \n",
       "0             ingu  \n",
       "1             ingu  \n",
       "2             ingu  \n",
       "3             ingu  \n",
       "4             ingu  \n",
       "...            ...  \n",
       "26995  female_ingu  \n",
       "26996  female_ingu  \n",
       "26997  female_ingu  \n",
       "26998  female_ingu  \n",
       "26999  female_ingu  \n",
       "\n",
       "[27000 rows x 7 columns]"
      ]
     },
     "execution_count": 36,
     "metadata": {},
     "output_type": "execute_result"
    }
   ],
   "source": [
    "yp_df_10000_clean = pd.melt(yp_df_10000,['hour','gu_name','dong_name'],value_vars=ingu_var,var_name='성별연령대',value_name='인구')\n",
    "yp_df_10000_clean['연령대'] = yp_df_10000_clean['성별연령대'].str.slice(stop=7)\n",
    "yp_df_10000_clean['성별'] = yp_df_10000_clean['성별연령대'].str.slice(start=8)\n",
    "yp_df_10000_clean"
   ]
  },
  {
   "cell_type": "code",
   "execution_count": 46,
   "metadata": {},
   "outputs": [
    {
     "data": {
      "text/plain": [
       "0          ingu\n",
       "1          ingu\n",
       "2          ingu\n",
       "3          ingu\n",
       "4          ingu\n",
       "          ...  \n",
       "26995    female\n",
       "26996    female\n",
       "26997    female\n",
       "26998    female\n",
       "26999    female\n",
       "Name: 성별, Length: 27000, dtype: object"
      ]
     },
     "execution_count": 46,
     "metadata": {},
     "output_type": "execute_result"
    }
   ],
   "source": [
    "yp_df_10000_clean['성별'] = yp_df_10000_clean['성별'].apply(lambda x:'total' if x=='ingu' e)\n",
    "yp_df_10000_clean['성별']"
   ]
  },
  {
   "cell_type": "code",
   "execution_count": null,
   "metadata": {},
   "outputs": [],
   "source": [
    "mapo_df = pd.read_excel(\"../data/moving_population/ingu_hour_mapo.xlsx\",sheet_name=0)"
   ]
  },
  {
   "cell_type": "code",
   "execution_count": 12,
   "metadata": {
    "collapsed": true
   },
   "outputs": [
    {
     "name": "stdout",
     "output_type": "stream",
     "text": [
      "Column headings:\n",
      "Index(['date', 'hour', 'longitude', 'latitude', 'gu_code', 'gu_name',\n",
      "       'dong_code', 'dong_name', 'under10_ingu', 'under20_ingu',\n",
      "       'under30_ingu', 'under40_ingu', 'under50_ingu', 'under60_ingu',\n",
      "       'under70_ingu', 'under80_ingu', 'upper80_ingu', 'under10_male_ingu',\n",
      "       'under20_male_ingu', 'under30_male_ingu', 'under40_male_ingu',\n",
      "       'under50_male_ingu', 'under60_male_ingu', 'under70_male_ingu',\n",
      "       'under80_male_ingu', 'upper80_male_ingu', 'under10_female_ingu',\n",
      "       'under20_female_ingu', 'under30_female_ingu', 'under40_female_ingu',\n",
      "       'under50_female_ingu', 'under60_female_ingu', 'under70_female_ingu',\n",
      "       'under80_female_ingu', 'upper80_female_ingu'],\n",
      "      dtype='object')\n",
      "Index(['date', 'hour', 'longitude', 'latitude', 'gu_code', 'gu_name',\n",
      "       'dong_code', 'dong_name', 'under10_ingu', 'under20_ingu',\n",
      "       'under30_ingu', 'under40_ingu', 'under50_ingu', 'under60_ingu',\n",
      "       'under70_ingu', 'under80_ingu', 'upper80_ingu', 'under10_male_ingu',\n",
      "       'under20_male_ingu', 'under30_male_ingu', 'under40_male_ingu',\n",
      "       'under50_male_ingu', 'under60_male_ingu', 'under70_male_ingu',\n",
      "       'under80_male_ingu', 'upper80_male_ingu', 'under10_female_ingu',\n",
      "       'under20_female_ingu', 'under30_female_ingu', 'under40_female_ingu',\n",
      "       'under50_female_ingu', 'under60_female_ingu', 'under70_female_ingu',\n",
      "       'under80_female_ingu', 'upper80_female_ingu'],\n",
      "      dtype='object')\n"
     ]
    }
   ],
   "source": [
    "df = pd.concat([yp_df, mapo_df])\n",
    "print(\"Column headings:\")\n",
    "print(df.columns)\n",
    "print(df.columns)"
   ]
  },
  {
   "cell_type": "code",
   "execution_count": 15,
   "metadata": {},
   "outputs": [
    {
     "data": {
      "text/plain": [
       "0         2.039465\n",
       "1         2.818753\n",
       "2         0.729360\n",
       "3         2.972929\n",
       "4         1.621038\n",
       "5         3.696146\n",
       "6         1.459867\n",
       "7         4.050965\n",
       "8         0.690941\n",
       "9         2.748141\n",
       "10        1.611013\n",
       "11        1.483147\n",
       "12        0.529442\n",
       "13        1.363903\n",
       "14        0.300597\n",
       "15        0.581599\n",
       "16        0.748841\n",
       "17        2.529473\n",
       "18        2.100494\n",
       "19        0.589867\n",
       "20        0.440920\n",
       "21        0.642770\n",
       "22        0.647057\n",
       "23        2.345369\n",
       "24        3.089817\n",
       "25        0.638893\n",
       "26        1.219475\n",
       "27        2.878496\n",
       "28        2.672629\n",
       "29        0.291874\n",
       "            ...   \n",
       "211396    2.649142\n",
       "211397    1.453178\n",
       "211398    2.679471\n",
       "211399    2.117583\n",
       "211400    0.264328\n",
       "211401    1.816424\n",
       "211402    0.801409\n",
       "211403    1.475979\n",
       "211404    2.598006\n",
       "211405    3.468964\n",
       "211406    2.944390\n",
       "211407    2.570824\n",
       "211408    2.472064\n",
       "211409    1.357797\n",
       "211410    0.518996\n",
       "211411    0.616811\n",
       "211412    2.321954\n",
       "211413    0.763233\n",
       "211414    1.487381\n",
       "211415    1.338114\n",
       "211416    1.326214\n",
       "211417    3.126361\n",
       "211418    0.797135\n",
       "211419    1.694001\n",
       "211420    0.810253\n",
       "211421    2.495556\n",
       "211422    6.493694\n",
       "211423    3.563040\n",
       "211424    0.699206\n",
       "211425    1.269684\n",
       "Name: under80_ingu, Length: 211426, dtype: float64"
      ]
     },
     "execution_count": 15,
     "metadata": {},
     "output_type": "execute_result"
    }
   ],
   "source": [
    "info['under80_ingu']"
   ]
  },
  {
   "cell_type": "code",
   "execution_count": 20,
   "metadata": {},
   "outputs": [
    {
     "name": "stdout",
     "output_type": "stream",
     "text": [
      "<class 'pandas.core.frame.DataFrame'>\n",
      "RangeIndex: 211426 entries, 0 to 211425\n",
      "Data columns (total 35 columns):\n",
      "date                   211426 non-null int64\n",
      "hour                   211426 non-null int64\n",
      "longitude              211426 non-null float64\n",
      "latitude               211426 non-null float64\n",
      "gu_code                211426 non-null int64\n",
      "gu_name                211426 non-null object\n",
      "dong_code              211426 non-null int64\n",
      "dong_name              211426 non-null object\n",
      "under10_ingu           211426 non-null float64\n",
      "under20_ingu           211426 non-null float64\n",
      "under30_ingu           211426 non-null float64\n",
      "under40_ingu           211426 non-null float64\n",
      "under50_ingu           211426 non-null float64\n",
      "under60_ingu           211426 non-null float64\n",
      "under70_ingu           211426 non-null float64\n",
      "under80_ingu           211426 non-null float64\n",
      "upper80_ingu           211426 non-null float64\n",
      "under10_male_ingu      211426 non-null float64\n",
      "under20_male_ingu      211426 non-null float64\n",
      "under30_male_ingu      211426 non-null float64\n",
      "under40_male_ingu      211426 non-null float64\n",
      "under50_male_ingu      211426 non-null float64\n",
      "under60_male_ingu      211426 non-null float64\n",
      "under70_male_ingu      211426 non-null float64\n",
      "under80_male_ingu      211426 non-null float64\n",
      "upper80_male_ingu      211426 non-null float64\n",
      "under10_female_ingu    211426 non-null float64\n",
      "under20_female_ingu    211426 non-null float64\n",
      "under30_female_ingu    211426 non-null float64\n",
      "under40_female_ingu    211426 non-null float64\n",
      "under50_female_ingu    211426 non-null float64\n",
      "under60_female_ingu    211426 non-null float64\n",
      "under70_female_ingu    211426 non-null float64\n",
      "under80_female_ingu    211426 non-null float64\n",
      "upper80_female_ingu    211426 non-null float64\n",
      "dtypes: float64(29), int64(4), object(2)\n",
      "memory usage: 56.5+ MB\n"
     ]
    }
   ],
   "source": [
    "info.info()"
   ]
  },
  {
   "cell_type": "code",
   "execution_count": 25,
   "metadata": {
    "collapsed": false
   },
   "outputs": [
    {
     "data": {
      "text/plain": [
       "<matplotlib.axes._subplots.AxesSubplot at 0x1cf5975eec8>"
      ]
     },
     "execution_count": 25,
     "metadata": {},
     "output_type": "execute_result"
    },
    {
     "data": {
      "image/png": "[encoded data removed]",
      "text/plain": [
       "<Figure size 432x288 with 1 Axes>"
      ]
     },
     "metadata": {},
     "output_type": "display_data"
    }
   ],
   "source": [
    "info['hour'].value_counts().plot(kind='bar')"
   ]
  },
  {
   "cell_type": "code",
   "execution_count": 24,
   "metadata": {},
   "outputs": [],
   "source": [
    "plt.show()"
   ]
  },
  {
   "cell_type": "code",
   "execution_count": 29,
   "metadata": {},
   "outputs": [
    {
     "data": {
      "image/png": "[encoded data removed]",
      "text/plain": [
       "<Figure size 432x288 with 1 Axes>"
      ]
     },
     "metadata": {},
     "output_type": "display_data"
    }
   ],
   "source": [
    "sns.distplot(info.loc[info['under30_ingu'].notnull(), 'under30_ingu'])\n",
    "plt.title('under30_ingu')\n",
    "plt.show()\n"
   ]
  },
  {
   "cell_type": "code",
   "execution_count": 34,
   "metadata": {},
   "outputs": [
    {
     "data": {
      "text/plain": [
       "HBox(children=(FloatProgress(value=0.0, description='variables', max=35.0, style=ProgressStyle(description_wid…"
      ]
     },
     "execution_count": 0,
     "metadata": {},
     "output_type": "execute_result"
    },
    {
     "name": "stdout",
     "output_type": "stream",
     "text": [
      "\n"
     ]
    },
    {
     "ename": "OptionError",
     "evalue": "\"No such keys(s): 'compute.use_numexpr'\"",
     "output_type": "error",
     "traceback": [
      "\u001b[1;31m---------------------------------------------------------------------------\u001b[0m",
      "\u001b[1;31mOptionError\u001b[0m                               Traceback (most recent call last)",
      "\u001b[1;32m<ipython-input-34-0ae0e641f506>\u001b[0m in \u001b[0;36m<module>\u001b[1;34m\u001b[0m\n\u001b[1;32m----> 1\u001b[1;33m \u001b[0mprofile\u001b[0m \u001b[1;33m=\u001b[0m \u001b[0mpp\u001b[0m\u001b[1;33m.\u001b[0m\u001b[0mProfileReport\u001b[0m\u001b[1;33m(\u001b[0m\u001b[0minfo\u001b[0m\u001b[1;33m,\u001b[0m \u001b[0mtitle\u001b[0m\u001b[1;33m=\u001b[0m\u001b[1;34m'Pandas Profiling Report'\u001b[0m\u001b[1;33m,\u001b[0m \u001b[0mhtml\u001b[0m\u001b[1;33m=\u001b[0m\u001b[1;33m{\u001b[0m\u001b[1;34m'style'\u001b[0m\u001b[1;33m:\u001b[0m\u001b[1;33m{\u001b[0m\u001b[1;34m'full_width'\u001b[0m\u001b[1;33m:\u001b[0m\u001b[1;32mTrue\u001b[0m\u001b[1;33m}\u001b[0m\u001b[1;33m}\u001b[0m\u001b[1;33m)\u001b[0m\u001b[1;33m\u001b[0m\u001b[1;33m\u001b[0m\u001b[0m\n\u001b[0m",
      "\u001b[1;32mC:\\project\\venv\\dacon\\lib\\site-packages\\pandas_profiling\\__init__.py\u001b[0m in \u001b[0;36m__init__\u001b[1;34m(self, df, minimal, config_file, **kwargs)\u001b[0m\n\u001b[0;32m     68\u001b[0m \u001b[1;33m\u001b[0m\u001b[0m\n\u001b[0;32m     69\u001b[0m         \u001b[1;31m# Get dataset statistics\u001b[0m\u001b[1;33m\u001b[0m\u001b[1;33m\u001b[0m\u001b[1;33m\u001b[0m\u001b[0m\n\u001b[1;32m---> 70\u001b[1;33m         \u001b[0mdescription_set\u001b[0m \u001b[1;33m=\u001b[0m \u001b[0mdescribe_df\u001b[0m\u001b[1;33m(\u001b[0m\u001b[0mdf\u001b[0m\u001b[1;33m)\u001b[0m\u001b[1;33m\u001b[0m\u001b[1;33m\u001b[0m\u001b[0m\n\u001b[0m\u001b[0;32m     71\u001b[0m \u001b[1;33m\u001b[0m\u001b[0m\n\u001b[0;32m     72\u001b[0m         \u001b[1;31m# Build report structure\u001b[0m\u001b[1;33m\u001b[0m\u001b[1;33m\u001b[0m\u001b[1;33m\u001b[0m\u001b[0m\n",
      "\u001b[1;32mC:\\project\\venv\\dacon\\lib\\site-packages\\pandas_profiling\\model\\describe.py\u001b[0m in \u001b[0;36mdescribe\u001b[1;34m(df)\u001b[0m\n\u001b[0;32m    600\u001b[0m             \u001b[1;32mwith\u001b[0m \u001b[0mmultiprocessing\u001b[0m\u001b[1;33m.\u001b[0m\u001b[0mpool\u001b[0m\u001b[1;33m.\u001b[0m\u001b[0mThreadPool\u001b[0m\u001b[1;33m(\u001b[0m\u001b[0mpool_size\u001b[0m\u001b[1;33m)\u001b[0m \u001b[1;32mas\u001b[0m \u001b[0mexecutor\u001b[0m\u001b[1;33m:\u001b[0m\u001b[1;33m\u001b[0m\u001b[1;33m\u001b[0m\u001b[0m\n\u001b[0;32m    601\u001b[0m                 for i, (column, description) in enumerate(\n\u001b[1;32m--> 602\u001b[1;33m                     \u001b[0mexecutor\u001b[0m\u001b[1;33m.\u001b[0m\u001b[0mimap_unordered\u001b[0m\u001b[1;33m(\u001b[0m\u001b[0mmultiprocess_1d\u001b[0m\u001b[1;33m,\u001b[0m \u001b[0margs\u001b[0m\u001b[1;33m)\u001b[0m\u001b[1;33m\u001b[0m\u001b[1;33m\u001b[0m\u001b[0m\n\u001b[0m\u001b[0;32m    603\u001b[0m                 ):\n\u001b[0;32m    604\u001b[0m                     \u001b[0mseries_description\u001b[0m\u001b[1;33m[\u001b[0m\u001b[0mcolumn\u001b[0m\u001b[1;33m]\u001b[0m \u001b[1;33m=\u001b[0m \u001b[0mdescription\u001b[0m\u001b[1;33m\u001b[0m\u001b[1;33m\u001b[0m\u001b[0m\n",
      "\u001b[1;32m~\\AppData\\Local\\Programs\\Python\\Python37\\lib\\multiprocessing\\pool.py\u001b[0m in \u001b[0;36mnext\u001b[1;34m(self, timeout)\u001b[0m\n\u001b[0;32m    746\u001b[0m         \u001b[1;32mif\u001b[0m \u001b[0msuccess\u001b[0m\u001b[1;33m:\u001b[0m\u001b[1;33m\u001b[0m\u001b[1;33m\u001b[0m\u001b[0m\n\u001b[0;32m    747\u001b[0m             \u001b[1;32mreturn\u001b[0m \u001b[0mvalue\u001b[0m\u001b[1;33m\u001b[0m\u001b[1;33m\u001b[0m\u001b[0m\n\u001b[1;32m--> 748\u001b[1;33m         \u001b[1;32mraise\u001b[0m \u001b[0mvalue\u001b[0m\u001b[1;33m\u001b[0m\u001b[1;33m\u001b[0m\u001b[0m\n\u001b[0m\u001b[0;32m    749\u001b[0m \u001b[1;33m\u001b[0m\u001b[0m\n\u001b[0;32m    750\u001b[0m     \u001b[0m__next__\u001b[0m \u001b[1;33m=\u001b[0m \u001b[0mnext\u001b[0m                    \u001b[1;31m# XXX\u001b[0m\u001b[1;33m\u001b[0m\u001b[1;33m\u001b[0m\u001b[0m\n",
      "\u001b[1;32m~\\AppData\\Local\\Programs\\Python\\Python37\\lib\\multiprocessing\\pool.py\u001b[0m in \u001b[0;36mworker\u001b[1;34m(inqueue, outqueue, initializer, initargs, maxtasks, wrap_exception)\u001b[0m\n\u001b[0;32m    119\u001b[0m         \u001b[0mjob\u001b[0m\u001b[1;33m,\u001b[0m \u001b[0mi\u001b[0m\u001b[1;33m,\u001b[0m \u001b[0mfunc\u001b[0m\u001b[1;33m,\u001b[0m \u001b[0margs\u001b[0m\u001b[1;33m,\u001b[0m \u001b[0mkwds\u001b[0m \u001b[1;33m=\u001b[0m \u001b[0mtask\u001b[0m\u001b[1;33m\u001b[0m\u001b[1;33m\u001b[0m\u001b[0m\n\u001b[0;32m    120\u001b[0m         \u001b[1;32mtry\u001b[0m\u001b[1;33m:\u001b[0m\u001b[1;33m\u001b[0m\u001b[1;33m\u001b[0m\u001b[0m\n\u001b[1;32m--> 121\u001b[1;33m             \u001b[0mresult\u001b[0m \u001b[1;33m=\u001b[0m \u001b[1;33m(\u001b[0m\u001b[1;32mTrue\u001b[0m\u001b[1;33m,\u001b[0m \u001b[0mfunc\u001b[0m\u001b[1;33m(\u001b[0m\u001b[1;33m*\u001b[0m\u001b[0margs\u001b[0m\u001b[1;33m,\u001b[0m \u001b[1;33m**\u001b[0m\u001b[0mkwds\u001b[0m\u001b[1;33m)\u001b[0m\u001b[1;33m)\u001b[0m\u001b[1;33m\u001b[0m\u001b[1;33m\u001b[0m\u001b[0m\n\u001b[0m\u001b[0;32m    122\u001b[0m         \u001b[1;32mexcept\u001b[0m \u001b[0mException\u001b[0m \u001b[1;32mas\u001b[0m \u001b[0me\u001b[0m\u001b[1;33m:\u001b[0m\u001b[1;33m\u001b[0m\u001b[1;33m\u001b[0m\u001b[0m\n\u001b[0;32m    123\u001b[0m             \u001b[1;32mif\u001b[0m \u001b[0mwrap_exception\u001b[0m \u001b[1;32mand\u001b[0m \u001b[0mfunc\u001b[0m \u001b[1;32mis\u001b[0m \u001b[1;32mnot\u001b[0m \u001b[0m_helper_reraises_exception\u001b[0m\u001b[1;33m:\u001b[0m\u001b[1;33m\u001b[0m\u001b[1;33m\u001b[0m\u001b[0m\n",
      "\u001b[1;32mC:\\project\\venv\\dacon\\lib\\site-packages\\pandas_profiling\\model\\describe.py\u001b[0m in \u001b[0;36mmultiprocess_1d\u001b[1;34m(args)\u001b[0m\n\u001b[0;32m    386\u001b[0m     \"\"\"\n\u001b[0;32m    387\u001b[0m     \u001b[0mcolumn\u001b[0m\u001b[1;33m,\u001b[0m \u001b[0mseries\u001b[0m \u001b[1;33m=\u001b[0m \u001b[0margs\u001b[0m\u001b[1;33m\u001b[0m\u001b[1;33m\u001b[0m\u001b[0m\n\u001b[1;32m--> 388\u001b[1;33m     \u001b[1;32mreturn\u001b[0m \u001b[0mcolumn\u001b[0m\u001b[1;33m,\u001b[0m \u001b[0mdescribe_1d\u001b[0m\u001b[1;33m(\u001b[0m\u001b[0mseries\u001b[0m\u001b[1;33m)\u001b[0m\u001b[1;33m\u001b[0m\u001b[1;33m\u001b[0m\u001b[0m\n\u001b[0m\u001b[0;32m    389\u001b[0m \u001b[1;33m\u001b[0m\u001b[0m\n\u001b[0;32m    390\u001b[0m \u001b[1;33m\u001b[0m\u001b[0m\n",
      "\u001b[1;32mC:\\project\\venv\\dacon\\lib\\site-packages\\pandas_profiling\\model\\describe.py\u001b[0m in \u001b[0;36mdescribe_1d\u001b[1;34m(series)\u001b[0m\n\u001b[0;32m    366\u001b[0m         \u001b[1;32mif\u001b[0m \u001b[0mseries_description\u001b[0m\u001b[1;33m[\u001b[0m\u001b[1;34m\"type\"\u001b[0m\u001b[1;33m]\u001b[0m \u001b[1;32min\u001b[0m \u001b[0mtype_to_func\u001b[0m\u001b[1;33m:\u001b[0m\u001b[1;33m\u001b[0m\u001b[1;33m\u001b[0m\u001b[0m\n\u001b[0;32m    367\u001b[0m             series_description.update(\n\u001b[1;32m--> 368\u001b[1;33m                 \u001b[0mtype_to_func\u001b[0m\u001b[1;33m[\u001b[0m\u001b[0mseries_description\u001b[0m\u001b[1;33m[\u001b[0m\u001b[1;34m\"type\"\u001b[0m\u001b[1;33m]\u001b[0m\u001b[1;33m]\u001b[0m\u001b[1;33m(\u001b[0m\u001b[0mseries\u001b[0m\u001b[1;33m,\u001b[0m \u001b[0mseries_description\u001b[0m\u001b[1;33m)\u001b[0m\u001b[1;33m\u001b[0m\u001b[1;33m\u001b[0m\u001b[0m\n\u001b[0m\u001b[0;32m    369\u001b[0m             )\n\u001b[0;32m    370\u001b[0m         \u001b[1;32melse\u001b[0m\u001b[1;33m:\u001b[0m\u001b[1;33m\u001b[0m\u001b[1;33m\u001b[0m\u001b[0m\n",
      "\u001b[1;32mC:\\project\\venv\\dacon\\lib\\site-packages\\pandas_profiling\\model\\describe.py\u001b[0m in \u001b[0;36mdescribe_numeric_1d\u001b[1;34m(series, series_description)\u001b[0m\n\u001b[0;32m     66\u001b[0m         \u001b[1;34m\"skewness\"\u001b[0m\u001b[1;33m:\u001b[0m \u001b[0mseries\u001b[0m\u001b[1;33m.\u001b[0m\u001b[0mskew\u001b[0m\u001b[1;33m(\u001b[0m\u001b[1;33m)\u001b[0m\u001b[1;33m,\u001b[0m\u001b[1;33m\u001b[0m\u001b[1;33m\u001b[0m\u001b[0m\n\u001b[0;32m     67\u001b[0m         \u001b[1;34m\"sum\"\u001b[0m\u001b[1;33m:\u001b[0m \u001b[0mseries\u001b[0m\u001b[1;33m.\u001b[0m\u001b[0msum\u001b[0m\u001b[1;33m(\u001b[0m\u001b[1;33m)\u001b[0m\u001b[1;33m,\u001b[0m\u001b[1;33m\u001b[0m\u001b[1;33m\u001b[0m\u001b[0m\n\u001b[1;32m---> 68\u001b[1;33m         \u001b[1;34m\"mad\"\u001b[0m\u001b[1;33m:\u001b[0m \u001b[0mseries\u001b[0m\u001b[1;33m.\u001b[0m\u001b[0mmad\u001b[0m\u001b[1;33m(\u001b[0m\u001b[1;33m)\u001b[0m\u001b[1;33m,\u001b[0m\u001b[1;33m\u001b[0m\u001b[1;33m\u001b[0m\u001b[0m\n\u001b[0m\u001b[0;32m     69\u001b[0m         \u001b[1;34m\"n_zeros\"\u001b[0m\u001b[1;33m:\u001b[0m \u001b[1;33m(\u001b[0m\u001b[0mlen\u001b[0m\u001b[1;33m(\u001b[0m\u001b[0mseries\u001b[0m\u001b[1;33m)\u001b[0m \u001b[1;33m-\u001b[0m \u001b[0mnp\u001b[0m\u001b[1;33m.\u001b[0m\u001b[0mcount_nonzero\u001b[0m\u001b[1;33m(\u001b[0m\u001b[0mseries\u001b[0m\u001b[1;33m)\u001b[0m\u001b[1;33m)\u001b[0m\u001b[1;33m,\u001b[0m\u001b[1;33m\u001b[0m\u001b[1;33m\u001b[0m\u001b[0m\n\u001b[0;32m     70\u001b[0m         \u001b[1;34m\"histogram_data\"\u001b[0m\u001b[1;33m:\u001b[0m \u001b[0mseries\u001b[0m\u001b[1;33m,\u001b[0m\u001b[1;33m\u001b[0m\u001b[1;33m\u001b[0m\u001b[0m\n",
      "\u001b[1;32mC:\\project\\venv\\dacon\\lib\\site-packages\\pandas\\core\\generic.py\u001b[0m in \u001b[0;36mmad\u001b[1;34m(self, axis, skipna, level)\u001b[0m\n\u001b[0;32m  10007\u001b[0m         \u001b[0mupper\u001b[0m \u001b[0mpercentiles\u001b[0m\u001b[1;33m.\u001b[0m \u001b[0mBy\u001b[0m \u001b[0mdefault\u001b[0m \u001b[0mthe\u001b[0m \u001b[0mlower\u001b[0m \u001b[0mpercentile\u001b[0m \u001b[1;32mis\u001b[0m\u001b[0;31m \u001b[0m\u001b[0;31m`\u001b[0m\u001b[0;31m`\u001b[0m\u001b[1;36m25\u001b[0m\u001b[0;31m`\u001b[0m\u001b[0;31m`\u001b[0m \u001b[1;32mand\u001b[0m \u001b[0mthe\u001b[0m\u001b[1;33m\u001b[0m\u001b[1;33m\u001b[0m\u001b[0m\n\u001b[0;32m  10008\u001b[0m         \u001b[0mupper\u001b[0m \u001b[0mpercentile\u001b[0m \u001b[1;32mis\u001b[0m\u001b[0;31m \u001b[0m\u001b[0;31m`\u001b[0m\u001b[0;31m`\u001b[0m\u001b[1;36m75\u001b[0m\u001b[0;31m`\u001b[0m\u001b[0;31m`\u001b[0m\u001b[1;33m.\u001b[0m \u001b[0mThe\u001b[0m\u001b[0;31m \u001b[0m\u001b[0;31m`\u001b[0m\u001b[0;31m`\u001b[0m\u001b[1;36m50\u001b[0m\u001b[0;31m`\u001b[0m\u001b[0;31m`\u001b[0m \u001b[0mpercentile\u001b[0m \u001b[1;32mis\u001b[0m \u001b[0mthe\u001b[0m\u001b[1;33m\u001b[0m\u001b[1;33m\u001b[0m\u001b[0m\n\u001b[1;32m> 10009\u001b[1;33m         \u001b[0msame\u001b[0m \u001b[1;32mas\u001b[0m \u001b[0mthe\u001b[0m \u001b[0mmedian\u001b[0m\u001b[1;33m.\u001b[0m\u001b[1;33m\u001b[0m\u001b[1;33m\u001b[0m\u001b[0m\n\u001b[0m\u001b[0;32m  10010\u001b[0m \u001b[1;33m\u001b[0m\u001b[0m\n\u001b[0;32m  10011\u001b[0m         \u001b[0mFor\u001b[0m \u001b[0mobject\u001b[0m \u001b[0mdata\u001b[0m \u001b[1;33m(\u001b[0m\u001b[0me\u001b[0m\u001b[1;33m.\u001b[0m\u001b[0mg\u001b[0m\u001b[1;33m.\u001b[0m \u001b[0mstrings\u001b[0m \u001b[1;32mor\u001b[0m \u001b[0mtimestamps\u001b[0m\u001b[1;33m)\u001b[0m\u001b[1;33m,\u001b[0m \u001b[0mthe\u001b[0m \u001b[0mresult\u001b[0m\u001b[0;31m'\u001b[0m\u001b[0ms\u001b[0m \u001b[0mindex\u001b[0m\u001b[1;33m\u001b[0m\u001b[1;33m\u001b[0m\u001b[0m\n",
      "\u001b[1;32mC:\\project\\venv\\dacon\\lib\\site-packages\\pandas\\core\\ops.py\u001b[0m in \u001b[0;36mwrapper\u001b[1;34m(left, right)\u001b[0m\n",
      "\u001b[1;32mC:\\project\\venv\\dacon\\lib\\site-packages\\pandas\\core\\ops.py\u001b[0m in \u001b[0;36msafe_na_op\u001b[1;34m(lvalues, rvalues)\u001b[0m\n",
      "\u001b[1;32mC:\\project\\venv\\dacon\\lib\\site-packages\\pandas\\core\\ops.py\u001b[0m in \u001b[0;36mna_op\u001b[1;34m(x, y)\u001b[0m\n",
      "\u001b[1;32mC:\\project\\venv\\dacon\\lib\\site-packages\\pandas\\core\\computation\\expressions.py\u001b[0m in \u001b[0;36m<module>\u001b[1;34m\u001b[0m\n\u001b[0;32m    167\u001b[0m \u001b[1;33m\u001b[0m\u001b[0m\n\u001b[0;32m    168\u001b[0m \u001b[1;31m# turn myself on\u001b[0m\u001b[1;33m\u001b[0m\u001b[1;33m\u001b[0m\u001b[1;33m\u001b[0m\u001b[0m\n\u001b[1;32m--> 169\u001b[1;33m \u001b[0mset_use_numexpr\u001b[0m\u001b[1;33m(\u001b[0m\u001b[0mget_option\u001b[0m\u001b[1;33m(\u001b[0m\u001b[1;34m\"compute.use_numexpr\"\u001b[0m\u001b[1;33m)\u001b[0m\u001b[1;33m)\u001b[0m\u001b[1;33m\u001b[0m\u001b[1;33m\u001b[0m\u001b[0m\n\u001b[0m\u001b[0;32m    170\u001b[0m \u001b[1;33m\u001b[0m\u001b[0m\n\u001b[0;32m    171\u001b[0m \u001b[1;33m\u001b[0m\u001b[0m\n",
      "\u001b[1;32mC:\\project\\venv\\dacon\\lib\\site-packages\\pandas\\_config\\config.py\u001b[0m in \u001b[0;36m__call__\u001b[1;34m(self, *args, **kwds)\u001b[0m\n\u001b[0;32m    231\u001b[0m \u001b[1;33m\u001b[0m\u001b[0m\n\u001b[0;32m    232\u001b[0m     \u001b[1;32mdef\u001b[0m \u001b[0m__call__\u001b[0m\u001b[1;33m(\u001b[0m\u001b[0mself\u001b[0m\u001b[1;33m,\u001b[0m \u001b[1;33m*\u001b[0m\u001b[0margs\u001b[0m\u001b[1;33m,\u001b[0m \u001b[1;33m**\u001b[0m\u001b[0mkwds\u001b[0m\u001b[1;33m)\u001b[0m\u001b[1;33m:\u001b[0m\u001b[1;33m\u001b[0m\u001b[1;33m\u001b[0m\u001b[0m\n\u001b[1;32m--> 233\u001b[1;33m         \u001b[1;32mreturn\u001b[0m \u001b[0mself\u001b[0m\u001b[1;33m.\u001b[0m\u001b[0m__func__\u001b[0m\u001b[1;33m(\u001b[0m\u001b[1;33m*\u001b[0m\u001b[0margs\u001b[0m\u001b[1;33m,\u001b[0m \u001b[1;33m**\u001b[0m\u001b[0mkwds\u001b[0m\u001b[1;33m)\u001b[0m\u001b[1;33m\u001b[0m\u001b[1;33m\u001b[0m\u001b[0m\n\u001b[0m\u001b[0;32m    234\u001b[0m \u001b[1;33m\u001b[0m\u001b[0m\n\u001b[0;32m    235\u001b[0m     \u001b[1;33m@\u001b[0m\u001b[0mproperty\u001b[0m\u001b[1;33m\u001b[0m\u001b[1;33m\u001b[0m\u001b[0m\n",
      "\u001b[1;32mC:\\project\\venv\\dacon\\lib\\site-packages\\pandas\\_config\\config.py\u001b[0m in \u001b[0;36m_get_option\u001b[1;34m(pat, silent)\u001b[0m\n\u001b[0;32m    100\u001b[0m \u001b[1;33m\u001b[0m\u001b[0m\n\u001b[0;32m    101\u001b[0m \u001b[1;32mdef\u001b[0m \u001b[0m_get_option\u001b[0m\u001b[1;33m(\u001b[0m\u001b[0mpat\u001b[0m\u001b[1;33m,\u001b[0m \u001b[0msilent\u001b[0m\u001b[1;33m=\u001b[0m\u001b[1;32mFalse\u001b[0m\u001b[1;33m)\u001b[0m\u001b[1;33m:\u001b[0m\u001b[1;33m\u001b[0m\u001b[1;33m\u001b[0m\u001b[0m\n\u001b[1;32m--> 102\u001b[1;33m     \u001b[0mkey\u001b[0m \u001b[1;33m=\u001b[0m \u001b[0m_get_single_key\u001b[0m\u001b[1;33m(\u001b[0m\u001b[0mpat\u001b[0m\u001b[1;33m,\u001b[0m \u001b[0msilent\u001b[0m\u001b[1;33m)\u001b[0m\u001b[1;33m\u001b[0m\u001b[1;33m\u001b[0m\u001b[0m\n\u001b[0m\u001b[0;32m    103\u001b[0m \u001b[1;33m\u001b[0m\u001b[0m\n\u001b[0;32m    104\u001b[0m     \u001b[1;31m# walk the nested dict\u001b[0m\u001b[1;33m\u001b[0m\u001b[1;33m\u001b[0m\u001b[1;33m\u001b[0m\u001b[0m\n",
      "\u001b[1;32mC:\\project\\venv\\dacon\\lib\\site-packages\\pandas\\_config\\config.py\u001b[0m in \u001b[0;36m_get_single_key\u001b[1;34m(pat, silent)\u001b[0m\n\u001b[0;32m     86\u001b[0m         \u001b[1;32mif\u001b[0m \u001b[1;32mnot\u001b[0m \u001b[0msilent\u001b[0m\u001b[1;33m:\u001b[0m\u001b[1;33m\u001b[0m\u001b[1;33m\u001b[0m\u001b[0m\n\u001b[0;32m     87\u001b[0m             \u001b[0m_warn_if_deprecated\u001b[0m\u001b[1;33m(\u001b[0m\u001b[0mpat\u001b[0m\u001b[1;33m)\u001b[0m\u001b[1;33m\u001b[0m\u001b[1;33m\u001b[0m\u001b[0m\n\u001b[1;32m---> 88\u001b[1;33m         \u001b[1;32mraise\u001b[0m \u001b[0mOptionError\u001b[0m\u001b[1;33m(\u001b[0m\u001b[1;34m\"No such keys(s): {pat!r}\"\u001b[0m\u001b[1;33m.\u001b[0m\u001b[0mformat\u001b[0m\u001b[1;33m(\u001b[0m\u001b[0mpat\u001b[0m\u001b[1;33m=\u001b[0m\u001b[0mpat\u001b[0m\u001b[1;33m)\u001b[0m\u001b[1;33m)\u001b[0m\u001b[1;33m\u001b[0m\u001b[1;33m\u001b[0m\u001b[0m\n\u001b[0m\u001b[0;32m     89\u001b[0m     \u001b[1;32mif\u001b[0m \u001b[0mlen\u001b[0m\u001b[1;33m(\u001b[0m\u001b[0mkeys\u001b[0m\u001b[1;33m)\u001b[0m \u001b[1;33m>\u001b[0m \u001b[1;36m1\u001b[0m\u001b[1;33m:\u001b[0m\u001b[1;33m\u001b[0m\u001b[1;33m\u001b[0m\u001b[0m\n\u001b[0;32m     90\u001b[0m         \u001b[1;32mraise\u001b[0m \u001b[0mOptionError\u001b[0m\u001b[1;33m(\u001b[0m\u001b[1;34m\"Pattern matched multiple keys\"\u001b[0m\u001b[1;33m)\u001b[0m\u001b[1;33m\u001b[0m\u001b[1;33m\u001b[0m\u001b[0m\n",
      "\u001b[1;31mOptionError\u001b[0m: \"No such keys(s): 'compute.use_numexpr'\""
     ]
    }
   ],
   "source": [
    "profile = pp.ProfileReport(info, title='Pandas Profiling Report', html={'style':{'full_width':True}})"
   ]
  },
  {
   "cell_type": "code",
   "execution_count": null,
   "metadata": {},
   "outputs": [],
   "source": []
  }
 ],
 "metadata": {
  "kernelspec": {
   "display_name": "Python 3",
   "language": "python",
   "name": "python3"
  },
  "language_info": {
   "codemirror_mode": {
    "name": "ipython",
    "version": 2
   },
   "file_extension": ".py",
   "mimetype": "text/x-python",
   "name": "python",
   "nbconvert_exporter": "python",
   "pygments_lexer": "ipython2",
   "version": "2.7.6"
  },
  "pycharm": {
   "stem_cell": {
    "cell_type": "raw",
    "metadata": {
     "collapsed": false
    },
    "source": []
   }
  }
 },
 "nbformat": 4,
 "nbformat_minor": 2
}
